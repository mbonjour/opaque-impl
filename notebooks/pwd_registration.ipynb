{
 "cells": [
  {
   "cell_type": "code",
   "execution_count": 79,
   "metadata": {},
   "outputs": [
    {
     "name": "stdout",
     "output_type": "stream",
     "text": [
      "521\n"
     ]
    },
    {
     "data": {
      "text/plain": [
       "True"
      ]
     },
     "execution_count": 79,
     "metadata": {},
     "output_type": "execute_result"
    }
   ],
   "source": [
    "#\n",
    "# Public elliptic curve (sec512r1)\n",
    "\n",
    "p = 2 ** 521 - 1\n",
    "a = 0x01FFFFFFFFFFFFFFFFFFFFFFFFFFFFFFFFFFFFFFFFFFFFFFFFFFFFFFFFFFFFFFFFFFFFFFFFFFFFFFFFFFFFFFFFFFFFFFFFFFFFFFFFFFFFFFFFFFFFFFFFFFFFFFFFFC\n",
    "b = 0x0051953EB9618E1C9A1F929A21A0B68540EEA2DA725B99B315F3B8B489918EF109E156193951EC7E937B1652C0BD3BB1BF073573DF883D2C34F1EF451FD46B503F00\n",
    "E = EllipticCurve(FiniteField(p), [a, b])\n",
    "\n",
    "x = 0x00C6858E06B70404E9CD9E3ECB662395B4429C648139053FB521F828AF606B4D3DBAA14B5E77EFE75928FE1DC127A2FFA8DE3348B3C1856A429BF97E7E31C2E5BD66\n",
    "y = 0x011839296A789A3BC0045C8A5FB42C7D1BD998F54449579B446817AFBD17273E662C97EE72995EF42640C550B9013FAD0761353C7086A272C24088BE94769FD16650\n",
    "G = E(x, y)\n",
    "\n",
    "n = 0x01FFFFFFFFFFFFFFFFFFFFFFFFFFFFFFFFFFFFFFFFFFFFFFFFFFFFFFFFFFFFFFFFFA51868783BF2F966B7FCC0148F709A5D03BB5C9B8899C47AEBB6FB71E91386409\n",
    "\n",
    "Fn = FiniteField(n)\n",
    "print(int(n).bit_length())\n",
    "\n",
    "(n * G).is_zero()"
   ]
  },
  {
   "cell_type": "code",
   "execution_count": 80,
   "metadata": {},
   "outputs": [],
   "source": [
    "import os\n",
    "import json\n",
    "import base64\n",
    "import hashlib\n",
    "\n",
    "from cryptography.hazmat.primitives.ciphers.aead import AESGCM\n",
    "from cryptography.hazmat.backends import default_backend\n",
    "from cryptography.hazmat.primitives import hashes, hmac\n",
    "\n",
    "#\n",
    "# Common functions\n",
    "\n",
    "def i2b(i):\n",
    "    \"\"\"\n",
    "    int to bytes\n",
    "    \"\"\"\n",
    "    return int(i).to_bytes((int(i).bit_length() + 7) // 8, byteorder=sys.byteorder)\n",
    "\n",
    "def b2i(b):\n",
    "    \"\"\"\n",
    "    bytes to int\n",
    "    \"\"\"\n",
    "    return int.from_bytes(b, byteorder=sys.byteorder)\n",
    "\n",
    "def ecp2b(p):\n",
    "    \"\"\"\n",
    "    elliptic curve point to bytes\n",
    "    \"\"\"\n",
    "    x, y = p.xy()\n",
    "    return i2b(int(x)) + i2b(int(y))\n",
    "\n",
    "def h(m):\n",
    "    \"\"\"\n",
    "    The H function (SHA-256)\n",
    "    \"\"\"\n",
    "    return hashlib.sha256(m).digest()\n",
    "\n",
    "def hp(m):\n",
    "    \"\"\"\n",
    "    The H' function\n",
    "    \"\"\"\n",
    "    return int.from_bytes(h(m), byteorder=sys.byteorder) * G\n",
    "\n",
    "def auth_enc(key, message):\n",
    "    \n",
    "    # pad message with 0 as described in 3.1.1.\n",
    "    message += b'\\x00' * 16\n",
    "    #while len(message) % 16 != 0:\n",
    "    #    message += b'\\x00'\n",
    "    \n",
    "    # iv should be 0 according to RFC\n",
    "    iv = b'\\x00' * 12  # os.urandom(12)\n",
    "    \n",
    "    # return iv and cipher\n",
    "    return AESGCM(key).encrypt(iv, message, None)\n",
    "\n",
    "def auth_dec(key, cipher):\n",
    "    \n",
    "    # iv should be 0 according to RFC\n",
    "    iv = b'\\x00' * 12  # os.urandom(12)\n",
    "    \n",
    "    # return message after removing the last 16 \"0\" bytes\n",
    "    return AESGCM(key).decrypt(iv, cipher, None)[:-16]\n",
    "\n",
    "def e(pub, id, ssid):\n",
    "    return h(pub, id, ssid)\n",
    "\n",
    "def key_ex_s(p_s, x_s, X_s, P_u, X_u, id_s, id_u, ssid):\n",
    "    \n",
    "    e_u = h(ecp2b(X_u) + id_s + ssid)\n",
    "    e_s = h(ecp2b(X_s) + id_u + ssid)\n",
    "    \n",
    "    return h(ecp2b((X_u + b2i(e_u) * P_u) * (x_s + b2i(e_s) * p_s)))\n",
    "\n",
    "def key_ex_u(p_u, x_u, X_s, P_s, X_u, id_s, id_u, ssid):\n",
    "    \n",
    "    e_u = h(ecp2b(X_u) + id_s + ssid)\n",
    "    e_s = h(ecp2b(X_s) + id_u + ssid)\n",
    "    \n",
    "    return h(ecp2b((X_s + b2i(e_s) * P_s) * (x_u + b2i(e_u) * p_u)))\n",
    "\n",
    "def f(key, message):\n",
    "    h = hmac.HMAC(key, hashes.SHA256(), backend=default_backend())\n",
    "    h.update(message)\n",
    "    return h.finalize()\n",
    "\n",
    "def abort():\n",
    "    sys.exit(-1)\n",
    "    None\n",
    "\n",
    "#k = AESGCM.generate_key(bit_length=int(128))\n",
    "#c = auth_enc(k, b'hello')\n",
    "#print(c)\n",
    "#print(auth_dec(k, c))"
   ]
  },
  {
   "cell_type": "code",
   "execution_count": 81,
   "metadata": {},
   "outputs": [],
   "source": [
    "#\n",
    "# Step 1. User\n",
    "\n",
    "# choose password\n",
    "pw = b'pwd123'\n",
    "\n",
    "# choose private and public key\n",
    "prv_u = Integer(Fn.random_element())\n",
    "pub_u = prv_u * G"
   ]
  },
  {
   "cell_type": "code",
   "execution_count": 82,
   "metadata": {},
   "outputs": [],
   "source": [
    "#\n",
    "# Step 2. Server\n",
    "\n",
    "# choose random key for OPRF (different for each user)\n",
    "k_u = Integer(Fn.random_element())\n",
    "v_u = k_u * G\n",
    "\n",
    "# choose private and public key\n",
    "prv_s = Integer(Fn.random_element())\n",
    "pub_s = prv_s * G"
   ]
  },
  {
   "cell_type": "code",
   "execution_count": 83,
   "metadata": {},
   "outputs": [],
   "source": [
    "# Server sends pub_s to user"
   ]
  },
  {
   "cell_type": "code",
   "execution_count": 84,
   "metadata": {},
   "outputs": [],
   "source": [
    "#\n",
    "# OPRF(k_u; pw) between server and user"
   ]
  },
  {
   "cell_type": "code",
   "execution_count": 85,
   "metadata": {},
   "outputs": [],
   "source": [
    "#\n",
    "# Step 3.1 User\n",
    "\n",
    "# choose random r\n",
    "r = Integer(Fn.random_element())\n",
    "\n",
    "# compute alpha\n",
    "alpha = hp(pw) + r * G"
   ]
  },
  {
   "cell_type": "code",
   "execution_count": 86,
   "metadata": {},
   "outputs": [],
   "source": [
    "# User sends alpha to server"
   ]
  },
  {
   "cell_type": "code",
   "execution_count": 87,
   "metadata": {},
   "outputs": [],
   "source": [
    "#\n",
    "# Step 3.2. Server\n",
    "\n",
    "# compute beta\n",
    "beta = k_u * alpha"
   ]
  },
  {
   "cell_type": "code",
   "execution_count": 88,
   "metadata": {},
   "outputs": [],
   "source": [
    "# Serveur sends v_u and beta to user"
   ]
  },
  {
   "cell_type": "code",
   "execution_count": 89,
   "metadata": {},
   "outputs": [
    {
     "name": "stdout",
     "output_type": "stream",
     "text": [
      "b'\\xcf\\x17n4\\xac\\xe9\\xf6\\xe2-\\x13\\x04\\tQ\\xb3\\xe6z\\x1f\\x13\\x95\\x19\\xf83\\x8d\\x81\\xa45\\x17\\x82\\xe9\\xa8\\tt'\n"
     ]
    }
   ],
   "source": [
    "#\n",
    "# Step 3.3. User\n",
    "\n",
    "# compute rw\n",
    "v_u_x, v_u_y = v_u.xy()\n",
    "rw = h(pw + ecp2b(beta + -r * v_u))\n",
    "print(rw)"
   ]
  },
  {
   "cell_type": "code",
   "execution_count": 90,
   "metadata": {},
   "outputs": [],
   "source": [
    "#\n",
    "# Continue password registration"
   ]
  },
  {
   "cell_type": "code",
   "execution_count": 124,
   "metadata": {},
   "outputs": [],
   "source": [
    "#\n",
    "# Step 3. User\n",
    "\n",
    "# compute c\n",
    "\n",
    "import pickle\n",
    "\n",
    "data = {\n",
    "    'p_u': prv_u,\n",
    "    'P_u': pub_u,\n",
    "    'P_s': pub_s\n",
    "}\n",
    "\n",
    "ser_data = pickle.dumps((prv_u, pub_u, pub_s))\n",
    "c = auth_enc(rw, ser_data)"
   ]
  },
  {
   "cell_type": "code",
   "execution_count": 92,
   "metadata": {},
   "outputs": [],
   "source": [
    "# User sends c and pub_u to server"
   ]
  },
  {
   "cell_type": "code",
   "execution_count": 125,
   "metadata": {},
   "outputs": [
    {
     "name": "stdout",
     "output_type": "stream",
     "text": [
      "c = b'C#\\xf4z\\xcf_\\xaf\\x84\\xf6-\\x08\\xd7h\\x16\\xa0R\\x81x\\n\\xbf\\xd0\\x9ak^\\xb7\\xfc\\x856\\x11\\xb4~\\xda\\xb2g\\xae\\x83\\x95t-\\xa7\\x83&@@\\xca\\xcc\\xc9=@\\x96\\x84\\x06%\\x8d\\x11|\\xe1\\x94\\xfe\\x7f\\x9fu\\x0e\\xbb\\x05\\x93\\xf4\\xbf\\xba3\\x01x\\x80\\xd8d\\x1c\\xb3\\x98\\x14\\xa9\\xa2\\xb6uC\\xc5jE\\n\\xd6\\xb4\\x1b\\x00\\xd5\\xa8\\r\\x1a\\x98\\xce\\x82\\xe7ip+\\xf9\\xb0,\\xc7\\xa9P3\\xf6\\x03`\\x15py\\xa6\\xfbI\\xee[\\xb7\\x1b\\xad\\xe6S\\xa2\\x02B\\x85K\\xe0\\xa1\\x9d\\n\\x95\\xc7X\\x1bm\\xe3\\xfd:Cs\\xcb\\xc0\\xf1^\\xe55/n\\xdf\\x1a_0\\x19oD\\n\\xa5\\xe2.\\x9b\\xbc\\x8aO\\xd18\\\\\\xa7\\xc9\\x03\\x03\\xb3\\xbe\\xedU8\\x84[\\xec\\xb0\\x99\\x8d`\\xbe\\xdbN6\\xdd%\\'h}m\\x1f\\xbe\\x99\\xfc\\x92\\x84?\\xab\\xa02\\x118VPY\\xc3\\x84tv\\xd3\\xd7i<a\\xa6*Q2\\xa2\\x0b\\x02\\xdb\\x93\\x1f\\xd0G8(\\x1f\\x9f\\x1c\\x1c5x<N\\x98\\xfe]\\x04\\x8b\\x9e\\x9c\\x12\\xffsU%f\\xff\\x84z\\xac\\x08\\xb1\\xb8+\\t\\'\\xdcvs\\x89\\xf5\\x06?\\x82\\xafEC\\x10\\xdf\\xfe\\xf08E\\xbb\\xda\\x02x?\\x06\\x88\\xbb\\xdf\\x88\\xf1mQ\\x947\\xce\\xdf\\xd6.\\xb1E\\xc5WL<\\x8d\\x1f\\xda)\\x8c!d\\xbeW7{\\x81\\x1b\\xcc\\xc4\\xcd|\\x14\\xbd-BR` \\x19i4vah\\x8f\\x98\\xf3\\x1cJ\\xeeI\\xab\\xb0\\xb7\\x97\\x90\\x02\\xf8V{.\\xc5\\x8b 1&{\\'0\\x14\\xfc\\x9bv[/\\x83\\x94DK\\x81\\xff\\xb1\\xeeS\\x7f]\\x1b#\\xbdn\\x86b\\xad\\x00\\xf7\\xd2\\x1b\\xa3K\\xe7\\x154\\xb3M,\\xf4 w\\x0f\\xe5\\xacV\\xba\\x8ag\\xd6\\x9bQrQ\\x0b\\x13#\\x8a\\xf94@\\xec\\xf5o_\\xd4\\x84\\x17[3\\xc2\\xbd\\xd75\\x8el\\x81\\xc24#\\x85\\xef\\x16\\xa8}&l\\xf3\\xae\\xd8\\x05\\xc0%\\xab\\x02&\\x04\\xcb\\xd2[r\\xb1\\x87\\x90\\xd8\\x1f\\'o\\r\\xa1\\xe0\\xc2\\xa6k\\xdaZj\\x81\\xf9\\xc7\\x87\\xa1i\\xe5\\xeb\\xae\\xady\\xbd\\x8e\\x98\\xa7\\xcb\\xd4\\xcf\\xcb\\xcf\\x7f\\x05\\xc5I\\xa8\\xf14J\\xef|w=\\xc6\\xe22H\\x17\\x7f\\xa0\\xff\\x9f\\x8eO\\x13\\xf4\\x83K\\x07(w\\x0fC6\\xab\\x91\\xab\\xaf\\xb0\\xe05\\xa0\\x95\\x014A\\x80=\\xf0\\x19\\x12\\xd6\\xcen\\x03;!\\x96\\x1b,l\\xa2\\x8d\\x8f\\xfa\\x8f\\xd3\\xd0\\xa1\\x98d\\xf0\\xdc\\xe3\\xe0\\xfaz\\xe7on\\x17o:V\\x11\\xb1p\\xc1W\\x9f\\xcf+-c\\xe7\\xa2{.=#ey\\x96\\xe2\\xabi7\\x8c\\xe3\\xb4\\x92{\\xf7\\x9f\\xb3Ha\\xc8\\xa7\\xe1\\xb03\\xe8\\xd9\\xc4?V\\x95\\xf1<t\\x83\\x8eF*\\xa3d\\xe6H%\\x9d\\xd5&\\x92\\xef\\x9b\\xa0\\xd3]Z\\x90Ne\\x06\\xa9\\x02\\x0f\\x1a\\xc9\\xfa\\xac\\xf4\\x90\\tiE\\xd3\\xa0\\x88]U\\x05\\xf4\\x95\\xf7\\x94\\x02D\\xff\\x0f\\xa9TeE\\xf6=h\\x860H\\x0b\\xd7\\x9d\\xe7\\x18\\xfd\\xea\\x7f\\x91\\x00\\x19\\xb6\\xe3\\x11\\x11\\xad\\xd0\\x82+C}\\xc4\\x91\\x84\\xf9~\\xf8\\xfb\\xc8,%j6i\\xa0\\xd9B\\x94\\x10\\xf9\\xc8pZ;\\xdb\\xca\\xd4\\xb0\\x0c\\xb3\\xd4o0\\xdf\\x96D\\xa7\\xc0H\\xdc\\xef;\\x10\\x1e^\\x0e\\xea%<\\xca\\xa4\\x01;\\x0c\\x92\\x81|:n\\xcc\\x8f\\xd3\\xe2OS\\x0b\\x11\\x1f\\x087\\x03[y\\x1e\"s :D\\x13Q~\\x82\\xbd\\xec\\xd7\\xba\\x8c\\x94\\x02\\x80\"\\xc0$\\xebOJ\\xfb\\x07Fw\\xdb\\xdd[\"j]\\xb4>D\\xfb\\x8c@\\x82\\xd4R\\xc4\\xe9\\xa2\\xb1\\xbf\\xd0\\xe8\\x91\\x19\\x92\\x94\\n\\xeb\\xad\\x1d\\x92\\xc7\\xd6\\xd1\\n\\xc0Bgk\\x1b`\\xf5\\x10\\xc4\\x1c\\x1e\\xbb\\xae\\x86\\xf2\\xf1P\\x03\\xabw\\x00Q:Xb\\x04T\\x87\\xcdt\\x7fz\\x89\\xf2\\xa2J\\x10\\xd1\\xd7>\\xa7@!\\x88^\\x87\\xeah*W\\x1f\\x0eQ\\xadef\\x97\\xee\\xed\\x07W!\\xa9n\\xf0\\xd3!\\xb2O\\x15\\x8a\\xfb\\x11\\xa0*\\xaeh\\xf7\\xe3ad~\\x0c\\xa9\\x81\\xad\\x12\\xcfH\\xfd:\\xeb\\x0c\\xc6\\xfc\\xb3\\x80\\xfb+i\\xe4\\xfbdQn\\xb4\\xbc@b\\xed\\x8d\\xc5\\x9a&\\x83Q]\\x9djX\\xbe\\xdf\\x92\\xa5\\xc0\\xa8\\x9e6\\x15gnL+l\\xbaoH\\xef\\xde`F\\xce\\xca\\x82\\xd1\\x1e\\x05-\\xa7a\\xd1\\xfa\\xa5sA\\x03\\x19A\\xb7\\xf6\\xd5\\xfd\\xc21\\x0cz\"e\\x9d\\xa5\\xb4\\xf8\\xe5C\\xa3\\xffD>\\x0c\\xfa\\x9c\\xae\\xb7\\x85#\\xc9\\x02\\xb8\\xd4T\\xc52\\xa5\\xde.\\x0f\\xab9\\x9f\\x87C*\\xe8\\xe4NK\\xa6\\xc0\\x16\\xfdV\\xad:\\x1f\\xff\\xfd\\x8b\\xd9\\xaa\\xbf \\x8a\\xbb\\xf2,\\xec\\xa3\\x8f\\xa7\\xd1\\x85\\xc7h\\xe8\\xb3y\\xf5\\xfeD\\xb7`\\xa0\\x04\\xb8\\xb7\\xd9\\xfe\\x01\\xeaU8%L\\xce\\xae\\x07\\xe0\\x08\\xc0\\x1e\\x14\\xd8oZ\\xf7\\x17\\xb8\\xe3\\x1f\\xa0\\xbfg\\x10\\x19\\x1f\\x95\\xd0*\\x1d\\xab\\xce\\x0f\\x1d\\x15\\x8a\\xea)\\x88O\\xf8\\xdd\\xa4W\\xe0\\xf1\\x80y&O\\xdb\\x8fv\",\\xb4X.\\xa3\\xfcZ\\xc7\\xae\\xf3\\x97\\x0f\\xb2\\x17\\xff\\x08\\xefd\\xac\\xb1\\xc3Bb\\x00\\xe2\\x9d\\x14\\xe7h\\x9d\\x90\\x9a\\xd9%\\xd7}\\xebr\\xce\\xcdzr\\x95\\xe1kZ\\x91T\\x06\\xa2\\x91\\xd8\\xd2o=\\x1d\\xff\\xf2\\xa5\\xc8\\x88\\x0f\\x978\\x0b\\xa0\\xab\\xbf\\x8a\\x9dJoX\\x0f\\x11?\\xda\\x08\\xcf1\\xe9\\xcc\\xca\\xa9\\xd6\\rm\\xc7\\xa9\\x0b`\\xc8\\xad\\xc6S\\xe4\\xdc~%O\\xf8\\x08\\xf8$4\\x0b\\xea>\\x9a%)Q\\xf3\\xad\\xba\\xc7`1C #~\\x99\\xb0\\xfe\\xed\\x86LM\\xd1l\\x90!\\xa3G\\xe2\\x1b\\x9a\\xe1\\xcc\\x17\\x8b\\xd7 \\x902\\xd63\\r\\x85;\\xbd\\xe7\\x0b\\xa3GW\\xccC7\\xbd0\\x15\\xf8\\xae\\n\\xae\\x1f<\\xbf\\xed\\x14\\x8d\\xfanL\\x12\\xa0\\x9a\\xa9a5\\x7f3`\\x17\\x1f\\x80\\x10k\\x16\\x8b\\xb8\\x9f\\xe6\\xac\\xa0\\x1a7\\xcc#V\\x94\\r\\x8e\\xdd\\xbd\\xdd\\x9a\\xc0\\xee\\x9e{%ISO\\x92\\x01\\xd4\\x08\\x8d8\\x0e,U\\x02\\xd3\\x82\\x94G\\xaf\\xd4#J\\x87\\n\\x9fM\\xd9u\\xed\\xdf \\xa4\\xc8+\\x0cl@\\xccJ\\xeb_\\xd3\\xc9\\xda\\'kU\\xb9\\xe7`\\x8c\\x11\\xce\\xd9\\x14\\xe42J\\xd5\\x84d\\xbfwb\\x9f\\x83FgF\\xa9d\\xf2\\x9e\\xb7\\xa9\\xedI\\xed\\xc0\\x98|M\\xd7\\xa6\\xde\\x15\\x0e\\x964\\x98K\\xd3\\x8dD\\xed\\r\\xfc\\xcdd\\x8c\\xacJ\\x02\\xcf5k\\xe1\\xe9T\\x03\\x96uD\\x9a\\x1d\\xff\\xac\\xab\\x96\\x10\\xbe\\xb1\\xa6\\x10\\xf0\\xb1\\xc2)\\x1b\\xd7\\xc4y\\xa1n\\xa6T\\xcdy@\\x00\\xed\\x1e\\xde\\x1d,\\xd4\\xa4\\x90\\xb0\\x9d\\x8b\\xac\\xab\\xbd\\xd3\\xf1\\xcf\\xf8\\x07\\x15K\\x03U\\xd7x\\xe4\\xc2=\\'m\\xc1S\\xa10\\xfb\\xc2\\xe9\\x8bk\\xaa\\x0b\\xff31\\xff\\x8c\\xdf\\x8a\\xd5\\xa6G\\xed\\xad{\\xe7\\x02\\x94\\xa7L\\xb6\\xaa\\x153BvE\\\\\\x95\\xa9\\x84%S\\x8b(\\xc6?L\\x0b}\\x885\\xa0\\xb9\\xc3s\\x7f--ec\\xba\\xd7(\\xe5\\xb5B\\xf8w\\x8f\\xca\\x8d\\x06\\x03\\xef\\xa8H\\xae\\x06%1 \\nq8\\x81q0K\\xfaR\\x83~y\\x91O\\x80\\x94\\x01\\xfe\\xb9\\xb8\\xc4\\x9a9o|(\\xbc\\xc7O\\xbag\\xa3\\xe0\\x1a?-\\xf8^\\xc7=\\x00\\x94\\xf0\\xe5\\xc5s[\\xd8J7\\x93\\xcb~\\xaax\\xbf\\xb2&\\xd00\\x08\\x9a\\xfe\\xadB\\xac\\xde\\x12\\xbb\\xd3G\\x8dO\\x95\\xf1\\x05\\xec!\\xe8\\xb8k}\\xa9\\xae\\xa6\\xa8l\\x80\\xa9\\x1dg\\xf3\\x995\\xb5c5\\xda\\x90\\xe5\\x86\\x0b\\x1dM\\x17\\xeai\\xc8\\x9f\\xc3\\xf9C\\x95\\xd7P\\xea\\x7fhV\\x1b|\\xc1,\\r\\'\\xa5\\xca\\xe05K\\xe9\\x98\\xb2\\xabB\\x99*\\xf8\\xab\\xac\\xb4\\xa1\\xe9\\x92\\x14\\xe8\\xdd\\x9b\\x80\\xf2\\x1c\\x8b!\\xffe\\xabg\\x1fKu\\xcc2\\xb5\\xec\\x1f\\r\\xa7\\x01\\xbb\\xd5~D7\\xa2\\x0c&\\xc8\\x94v4fU\\xcd_\\x82\\xde\\xb2\\x04BB\\xd1\\x0fB\\x1a\\xb3\\x80\\xc9\\xd7\\xaf\\x82\\x84!uq\\xae\\x9a\\xb6\\xd2\\xe91\\x1chxz\\xe5o\\xab\\xed\\xba\\r\\xf4\\xf1g)=r\\xf2E!\\x10\\xeb\\xc1*4_\\x1c\\xc7\\xa4\\x02~KQ\\x1e[\\xde\\x9b\\xdc\\xf2P\\xdb`\\x90\\xd1{\\x92\\x842\\xc8\\xa3\\xe7\\x19!\\xd1i\\xd6\\xa9\\x00=\\xb4\\\\{([i\\x9eB\\xe0}\\xdf\\xd1\\xd8<\\xcd\\xee\\x17u\\x06f\\xc9:\\n\\xe7|\\x89\\x91a\\xbb\\xca\\x9f\\xd9#L\\xb9\\x8a\\xa9B\\xa9vAp\\xe3\\x04(\\x7f\\xd8\\xf2\\xae%\\x8f\\x1fy\\r\\xf2b\\x7f\\xb8\\xd9\\xfe\\xf5\\x14\\x1e:\\xe7\\x94)\\xd6\\xe5\\x8e\\x1d\\x00\\xe0DB-\\xb3\\xfa\\\\\\xb3;\\xb0#4\\xc6VZ\\xef\\x83\\r\\xc6\\x0ba/c\\xc3n\\xd2\\xa82\\xfa\\xd1\\xb6f\\xa5\\xcf\\xf6\\xef\\xf3\\xca\\xa8\\x07; \\xee\\\\\\xff\\x9dw\\x10F\\xd1\\x8fm\\x98\\xe1\\xa5\\xcf\\x05I\\x8f>\\xacy\\xb1S\\x8f\\xdf\\x04.=\"\\x98]\\xa6x\\xedM\\xa3\\x7f|F^\\xf5\\xd0\\x08\\xe1\\xa48\\xfb\\xf6\\xf9\\xcc\\xf8A\\x1c\\xbf\\xc4\\x83\\xb7A\\xa4\\x11\\x047\\xc91\\xbc\\xc9^f2t7N\\xdb\\xfe\\xfbt\\xc8\\x04P\\xb2\\x83LG\\x06s\\xef\\x7f\\xcf1\\xcff\\x01\\xc4De\\xa2\\x13\\x83=\\x18]\\xf4\\xeb\\x0b.Mq\\x89\\xef\\xcc\\x8f\\x99\\xb5\\xe92\\xdf\\xf8\\xf6k\\xd8\\xd6\\xd85qUyX\\x85z\\xcaRST\\x19\\r\\x040\\x14\\ru\\x12y\\xa0A\\xd3\\xc0<z#\\xcc|\\x85\\x98O\\xf6Nl\\x8f\\x93\\xdcz\\x19E@\\xbb\\xc5\\xbdV\\xda\\xa0\\xf9\\x8b\\xaa\\x0b\\x87\\xb7M_\\x82\\xff\\xfa\"_\\xa5\\xa3\\x89\\xad\\x10\\x7f\\x96>e\\xe0\\x84\\xbc\\xc4p\\x11\\xe0pnu\\xa1\\x81y\\xfda\\r\\x06\\xe1\\xa1\\x19\\xe3'\n",
      "pub_s = E(637942979627990364448969114196197897495167092678773407716963536801297161986714158667961862291280018593545118288560951529315091887956989517426931959740200179, 1296598517385200680270373742923917173901133486572099884159384675502374210466552553556803723311738719733084154712988272987328248751185045678939383276211011124)\n",
      "pub_u = E(1629865470201567621063538950690422107256700471549698639634655174774370343095309018807529378451003809749476777086766791919486010544786931580460054065527877685, 6695132188248547073945843239124139256152673208035197077149616479023840285102213452104511466793114468818328885838365262169269745600576976140016040679577069850)\n"
     ]
    }
   ],
   "source": [
    "# Server stores <c, pub_s, prv_s, pub_u, k_u, v_u> for the corresponding user\n",
    "# User must erase pw, rw and all keys\n",
    "\n",
    "print(\"c =\", c)\n",
    "\n",
    "x, y = pub_s.xy()\n",
    "print(\"pub_s = E({}, {})\".format(x, y))\n",
    "#print(\"prv_s =\", prv_s)\n",
    "\n",
    "x, y = pub_u.xy()\n",
    "print(\"pub_u = E({}, {})\".format(x, y))\n",
    "#print(\"k_s =\", k_u)"
   ]
  },
  {
   "cell_type": "code",
   "execution_count": null,
   "metadata": {},
   "outputs": [],
   "source": []
  }
 ],
 "metadata": {
  "kernelspec": {
   "display_name": "SageMath 9.0",
   "language": "sage",
   "name": "sagemath"
  },
  "language_info": {
   "codemirror_mode": {
    "name": "ipython",
    "version": 3
   },
   "file_extension": ".py",
   "mimetype": "text/x-python",
   "name": "python",
   "nbconvert_exporter": "python",
   "pygments_lexer": "ipython3",
   "version": "3.7.3"
  }
 },
 "nbformat": 4,
 "nbformat_minor": 2
}
