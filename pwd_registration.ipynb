{
 "cells": [
  {
   "cell_type": "code",
   "execution_count": 42,
   "metadata": {},
   "outputs": [
    {
     "name": "stdout",
     "output_type": "stream",
     "text": [
      "521\n"
     ]
    },
    {
     "data": {
      "text/plain": [
       "True"
      ]
     },
     "execution_count": 42,
     "metadata": {},
     "output_type": "execute_result"
    }
   ],
   "source": [
    "#\n",
    "# Public elliptic curve (sec512r1)\n",
    "p = 2 ** 521 - 1\n",
    "a = 0x01FFFFFFFFFFFFFFFFFFFFFFFFFFFFFFFFFFFFFFFFFFFFFFFFFFFFFFFFFFFFFFFFFFFFFFFFFFFFFFFFFFFFFFFFFFFFFFFFFFFFFFFFFFFFFFFFFFFFFFFFFFFFFFFFFC\n",
    "b = 0x0051953EB9618E1C9A1F929A21A0B68540EEA2DA725B99B315F3B8B489918EF109E156193951EC7E937B1652C0BD3BB1BF073573DF883D2C34F1EF451FD46B503F00\n",
    "E = EllipticCurve(FiniteField(p), [a, b])\n",
    "\n",
    "x = 0x00C6858E06B70404E9CD9E3ECB662395B4429C648139053FB521F828AF606B4D3DBAA14B5E77EFE75928FE1DC127A2FFA8DE3348B3C1856A429BF97E7E31C2E5BD66\n",
    "y = 0x011839296A789A3BC0045C8A5FB42C7D1BD998F54449579B446817AFBD17273E662C97EE72995EF42640C550B9013FAD0761353C7086A272C24088BE94769FD16650\n",
    "G = E(x, y)\n",
    "\n",
    "n = 0x01FFFFFFFFFFFFFFFFFFFFFFFFFFFFFFFFFFFFFFFFFFFFFFFFFFFFFFFFFFFFFFFFFA51868783BF2F966B7FCC0148F709A5D03BB5C9B8899C47AEBB6FB71E91386409\n",
    "\n",
    "Fn = FiniteField(n)\n",
    "print(int(n).bit_length())\n",
    "\n",
    "(n * G).is_zero()"
   ]
  },
  {
   "cell_type": "code",
   "execution_count": 66,
   "metadata": {},
   "outputs": [],
   "source": [
    "import os\n",
    "import hashlib\n",
    "\n",
    "from cryptography.hazmat.primitives.ciphers.aead import AESGCM\n",
    "from cryptography.hazmat.backends import default_backend\n",
    "from cryptography.hazmat.primitives import hashes, hmac\n",
    "\n",
    "#\n",
    "# Common functions\n",
    "\n",
    "def i2b(i):\n",
    "    \"\"\"\n",
    "    int to bytes\n",
    "    \"\"\"\n",
    "    return int(i).to_bytes((int(i).bit_length() + 7) // 8, byteorder=sys.byteorder)\n",
    "\n",
    "def b2i(b):\n",
    "    \"\"\"\n",
    "    bytes to int\n",
    "    \"\"\"\n",
    "    return int.from_bytes(b, byteorder=sys.byteorder)\n",
    "\n",
    "def ecp2b(p):\n",
    "    \"\"\"\n",
    "    elliptic curve point to bytes\n",
    "    \"\"\"\n",
    "    x, y = p.xy()\n",
    "    return i2b(int(x)) + i2b(int(y))\n",
    "\n",
    "def h(m):\n",
    "    \"\"\"\n",
    "    The H function (SHA-256)\n",
    "    \"\"\"\n",
    "    return hashlib.sha256(m).digest()\n",
    "\n",
    "def hp(m):\n",
    "    \"\"\"\n",
    "    The H' function\n",
    "    \"\"\"\n",
    "    return int.from_bytes(h(m), byteorder=sys.byteorder) * G\n",
    "\n",
    "def auth_enc(key, message):\n",
    "    \n",
    "    # pad message with 0 as described in 3.1.1.\n",
    "    message += b'\\x00' * 16\n",
    "    #while len(message) % 16 != 0:\n",
    "    #    message += b'\\x00'\n",
    "    \n",
    "    # iv should be 0 according to RFC\n",
    "    iv = b'\\x00' * 12  # os.urandom(12)\n",
    "    \n",
    "    # return iv and cipher\n",
    "    return AESGCM(key).encrypt(iv, message, None)\n",
    "\n",
    "def auth_dec(key, cipher):\n",
    "    \n",
    "    # iv should be 0 according to RFC\n",
    "    iv = b'\\x00' * 12  # os.urandom(12)\n",
    "    \n",
    "    # return message after removing the last 16 \"0\" bytes\n",
    "    return AESGCM(key).decrypt(iv, cipher, None)[:-16]\n",
    "\n",
    "def e(pub, id, ssid):\n",
    "    return h(pub, id, ssid)\n",
    "\n",
    "def key_ex_s(p_s, x_s, X_s, P_u, X_u, id_s, id_u, ssid):\n",
    "    \n",
    "    e_u = h(ecp2b(X_u) + id_s + ssid)\n",
    "    e_s = h(ecp2b(X_s) + id_u + ssid)\n",
    "    \n",
    "    return h(ecp2b((X_u + b2i(e_u) * P_u) * (x_s + b2i(e_s) * p_s)))\n",
    "\n",
    "def key_ex_u(p_u, x_u, X_s, P_s, X_u, id_s, id_u, ssid):\n",
    "    \n",
    "    e_u = h(ecp2b(X_u) + id_s + ssid)\n",
    "    e_s = h(ecp2b(X_s) + id_u + ssid)\n",
    "    \n",
    "    return h(ecp2b((X_s + b2i(e_s) * P_s) * (x_u + b2i(e_u) * p_u)))\n",
    "\n",
    "def f(key, message):\n",
    "    h = hmac.HMAC(key, hashes.SHA256(), backend=default_backend())\n",
    "    h.update(message)\n",
    "    return h.finalize()\n",
    "\n",
    "def abort():\n",
    "    sys.exit(-1)\n",
    "    None\n",
    "\n",
    "#k = AESGCM.generate_key(bit_length=int(128))\n",
    "#c = auth_enc(k, b'hello')\n",
    "#print(c)\n",
    "#print(auth_dec(k, c))"
   ]
  },
  {
   "cell_type": "code",
   "execution_count": 67,
   "metadata": {},
   "outputs": [],
   "source": [
    "#\n",
    "# Step 1. User\n",
    "\n",
    "# choose password\n",
    "pw = b'pwd123'\n",
    "\n",
    "# choose private and public key\n",
    "prv_u = Integer(Fn.random_element())\n",
    "pub_u = prv_u * G"
   ]
  },
  {
   "cell_type": "code",
   "execution_count": 68,
   "metadata": {},
   "outputs": [],
   "source": [
    "#\n",
    "# Step 2. Server\n",
    "\n",
    "# choose random key for OPRF (different for each user)\n",
    "k_u = Integer(Fn.random_element())\n",
    "v_u = k_u * G\n",
    "\n",
    "# choose private and public key\n",
    "prv_s = Integer(Fn.random_element())\n",
    "pub_s = prv_s * G"
   ]
  },
  {
   "cell_type": "code",
   "execution_count": 69,
   "metadata": {},
   "outputs": [],
   "source": [
    "# Server sends pub_s to user"
   ]
  },
  {
   "cell_type": "code",
   "execution_count": 70,
   "metadata": {},
   "outputs": [],
   "source": [
    "#\n",
    "# OPRF(k_u; pw) between server and user"
   ]
  },
  {
   "cell_type": "code",
   "execution_count": 71,
   "metadata": {},
   "outputs": [],
   "source": [
    "#\n",
    "# Step 3.1 User\n",
    "\n",
    "# choose random r\n",
    "r = Integer(Fn.random_element())\n",
    "\n",
    "# compute alpha\n",
    "alpha = hp(pw) + r * G"
   ]
  },
  {
   "cell_type": "code",
   "execution_count": 72,
   "metadata": {},
   "outputs": [],
   "source": [
    "# User sends alpha to server"
   ]
  },
  {
   "cell_type": "code",
   "execution_count": 73,
   "metadata": {},
   "outputs": [],
   "source": [
    "#\n",
    "# Step 3.2. Server\n",
    "\n",
    "# compute beta\n",
    "beta = k_u * alpha"
   ]
  },
  {
   "cell_type": "code",
   "execution_count": 74,
   "metadata": {},
   "outputs": [],
   "source": [
    "# Serveur sends v_u and beta to user"
   ]
  },
  {
   "cell_type": "code",
   "execution_count": 75,
   "metadata": {},
   "outputs": [
    {
     "name": "stdout",
     "output_type": "stream",
     "text": [
      "b'\\xb6.\\xcc\\x11A)k\\xe7\\xb7=:}\\x90\\x15\\xbb:\\x9b5\\xbf\\x7f\\x13\\xa9\\r\\xe6\\\\S\\xd1{\\xe5^n['\n"
     ]
    }
   ],
   "source": [
    "#\n",
    "# Step 3.3. User\n",
    "\n",
    "# compute rw\n",
    "v_u_x, v_u_y = v_u.xy()\n",
    "rw = h(pw + ecp2b(v_u) + ecp2b(beta + -r * v_u))\n",
    "print(rw)"
   ]
  },
  {
   "cell_type": "code",
   "execution_count": null,
   "metadata": {},
   "outputs": [],
   "source": []
  },
  {
   "cell_type": "code",
   "execution_count": null,
   "metadata": {},
   "outputs": [],
   "source": []
  },
  {
   "cell_type": "code",
   "execution_count": 53,
   "metadata": {},
   "outputs": [],
   "source": [
    "#\n",
    "# Continue password registration"
   ]
  },
  {
   "cell_type": "code",
   "execution_count": 54,
   "metadata": {},
   "outputs": [],
   "source": [
    "#\n",
    "# Step 3. User\n",
    "\n",
    "# compute c\n",
    "c = auth_enc(rw, i2b(prv_u) + ecp2b(pub_u) + ecp2b(pub_s))"
   ]
  },
  {
   "cell_type": "code",
   "execution_count": 55,
   "metadata": {},
   "outputs": [],
   "source": [
    "# User sends c and pub_u to server"
   ]
  },
  {
   "cell_type": "code",
   "execution_count": 65,
   "metadata": {},
   "outputs": [
    {
     "name": "stdout",
     "output_type": "stream",
     "text": [
      "c = b'\\xdbB7[\\x0c\\xf0\\xf9\\xf8\\xb4Z\\xbb\\x19:\\xf9\\x05\\x17\\xf0q\\x89\\xf1NJ\\x1f\\x10}z\\xfd\\xf0X,\\x9e\\xf0\\xf46\\xcd\\x9b^\\xbf\\xbf.\\x03\\xe5A\\x8d\\x18\\xa0[\\x8dd\\x01B~ZN\\xf9\\x88wS\"LZ8\\x10\\xc7\\xcb\\x15q\\x98\\xc2*\\xd0\\x06\\x9d\\xb0H\\xb8+\\xefb\\xcb\\xa1\\xd7g|i\\xc7\\xa6\\xd0\\x1f\\xb7\\x17\\xf3\\x8d\\xdd\\x1d\\xd7[\\xfa{\\x9bU\\x18\\x05\\xb8\\x165\\xa3\\xcd\\x16\\x13T\\xe3\\x19\\x1ex\\xce\\xeb\\xc5\\xce)\\xdf\\x8aw+\\xce\\xb7\\x05\\x84\\x85\\xddz\\xc2\\xbe)is\\xbd\\x08Sr\\xc7\\xb2g8\\xa2\\xcczm4\\xa8\\xc1\\x9d\\xb1\\xdb\\x9e%\\xffsRC\\xba\\x9b\"J\\r@eI\\xff^\\xa7\\x8a\\xc9*\\x1c\\xdac\\x9al\\xdb\\xee\\xaa\\xd7\\xc1$L:\\xbb\\xd4\\x87\\xa1\\xde\\x03/\\xf1\\x11v\\xc1\\xc5\\x9c\\x0c\\x1f\\xfa\\xa3\\xec\\x96m\\xa5\\xa3\\\\\\xc7!-\\x117\\xa7u\\xb3g\\xd6\\xda\\xad\\xbbD\\xce\\xc7u\\xe4\\xa5\\xb3\\xd4\\x03S\\xaa_\\xb77\\xf0R\\xcc\\x1b\\xef\\xe2\\xa7\\x13p\\xb3\\xc0\\xdd\\x06\\x8cp\\x8f\\t\\x7f\\xd0\\xdb\\x94\\x85\\x04\\x16{\\xe5\\xa2\\x12\\xf2\\xca\\xd9\\xd6\\xe7\\xcc\\xed\\x02\\xfa\\xa1\\xba\\xe2U\\xdb$\\xd4\\x8a\\x1f2\\xabV\\xa9\\x85~\\xb0~*Ot\\x012^\\x15G !\\xb5z\\x17\\t\\xd9\\x8d\\xeb\\x12D\"GO\\xe5\\x1fg\\xfc\\x8a\\x88\\xacX\\xe4eJ\\xf1_{\\xf7r\\x96\\xad\\xfcK\\x86\\xb3J\\x98q\\xd98\\xae\\xf3w%\\x95\\xa8\\xb5\\xect!\\x0f\\x95\\xe47\\xf8x\\x8a\\xdc\\xa7 p'\n",
      "pub_s = E(1433704665742155038128462656064416442871785350599550562436398511083464180941909401851713430314432670788559973193195534726546972726910093828042000496883413045, 6756872519399264193144605465473237174198164156820665282509453279257094869006302479753383364803613681545608262068774045368877452023372312138889429496436952089)\n",
      "prv_s = 4205577181500221178842363737043702983229732488496938327623072198775824879650558028075099794835837376090085027129870661999331302921101231436690046483622785452\n",
      "pub_u = E(1433704665742155038128462656064416442871785350599550562436398511083464180941909401851713430314432670788559973193195534726546972726910093828042000496883413045, 6756872519399264193144605465473237174198164156820665282509453279257094869006302479753383364803613681545608262068774045368877452023372312138889429496436952089)\n",
      "k_s = 940506098320079733993637645689320100120596263903254754542617893037568640189179889095339283415665838876732151345027733024922018722143604368347926122043755291\n"
     ]
    }
   ],
   "source": [
    "# Server stores <c, pub_s, prv_s, pub_u, k_u, v_u> for the corresponding user\n",
    "# User must erase pw, rw and all keys\n",
    "\n",
    "print(\"c =\", c)\n",
    "\n",
    "x, y = pub_s.xy()\n",
    "print(\"pub_s = E({}, {})\".format(x, y))\n",
    "print(\"prv_s =\", prv_s)\n",
    "\n",
    "x, y = pub_s.xy()\n",
    "print(\"pub_u = E({}, {})\".format(x, y))\n",
    "print(\"k_s =\", k_u)"
   ]
  },
  {
   "cell_type": "code",
   "execution_count": null,
   "metadata": {},
   "outputs": [],
   "source": []
  }
 ],
 "metadata": {
  "kernelspec": {
   "display_name": "SageMath 9.0",
   "language": "sage",
   "name": "sagemath"
  },
  "language_info": {
   "codemirror_mode": {
    "name": "ipython",
    "version": 3
   },
   "file_extension": ".py",
   "mimetype": "text/x-python",
   "name": "python",
   "nbconvert_exporter": "python",
   "pygments_lexer": "ipython3",
   "version": "3.7.3"
  }
 },
 "nbformat": 4,
 "nbformat_minor": 2
}
